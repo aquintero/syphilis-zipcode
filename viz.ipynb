{
 "cells": [
  {
   "cell_type": "code",
   "execution_count": 1,
   "metadata": {
    "collapsed": true
   },
   "outputs": [],
   "source": [
    "import seaborn as sb\n",
    "import numpy as np\n",
    "import pandas as pd"
   ]
  },
  {
   "cell_type": "code",
   "execution_count": 20,
   "metadata": {
    "collapsed": false
   },
   "outputs": [
    {
     "name": "stdout",
     "output_type": "stream",
     "text": [
      "         FID  ZCTA5CE10  GEOID10   ALAND10  AWATER10  INTPTLAT10  INTPTLON10  \\\n",
      "FID                                                                            \n",
      "14061  14061      33503    33503   1673643      1477   27.763831  -82.276174   \n",
      "14062  14062      33510    33510  19232229   1249842   27.955637  -82.296693   \n",
      "14063  14063      33511    33511  41143907   2263513   27.909778  -82.295738   \n",
      "14069  14069      33527    33527  80466350   1568059   27.973604  -82.212663   \n",
      "14070  14070      33534    33534  32021700   7405786   27.823189  -82.378870   \n",
      "\n",
      "       DP0010001  DP0010002  DP0010003     ...      DP0200001  DP0210001  \\\n",
      "FID                                        ...                             \n",
      "14061        108          6         11     ...            0.0         32   \n",
      "14062      27610       1904       1841     ...            6.8      10425   \n",
      "14063      52003       3378       3285     ...            8.4      20591   \n",
      "14069      15203       1225       1213     ...           14.6       4557   \n",
      "14070      12839       1346       1120     ...           14.7       4246   \n",
      "\n",
      "       DP0210002  DP0210003  DP0220001  DP0220002  DP0230001  DP0230002  \\\n",
      "FID                                                                       \n",
      "14061         25          7         84         24       3.36       3.43   \n",
      "14062       6676       3749      17577       9861       2.63       2.63   \n",
      "14063      11019       9572      29414      22234       2.67       2.32   \n",
      "14069       3148       1409       9268       5448       2.94       3.87   \n",
      "14070       2612       1634       7626       5199       2.92       3.18   \n",
      "\n",
      "       Shape_Leng  Shape_Area  \n",
      "FID                            \n",
      "14061    0.068990    0.000153  \n",
      "14062    0.247573    0.001878  \n",
      "14063    0.441234    0.003979  \n",
      "14069    0.652827    0.007524  \n",
      "14070    0.516640    0.003611  \n",
      "\n",
      "[5 rows x 195 columns]\n"
     ]
    }
   ],
   "source": [
    "data = pd.read_csv('data/hills-census.csv', sep = ',')\n",
    "data.index = data['FID']\n",
    "print(data.head())"
   ]
  },
  {
   "cell_type": "code",
   "execution_count": 19,
   "metadata": {
    "collapsed": false
   },
   "outputs": [
    {
     "name": "stdout",
     "output_type": "stream",
     "text": [
      "Index([u'FID', u'ZCTA5CE10', u'GEOID10', u'ALAND10', u'AWATER10',\n",
      "       u'INTPTLAT10', u'INTPTLON10', u'Population', u'Under 5 years',\n",
      "       u'5 to 9 years',\n",
      "       ...\n",
      "       u'Rental vacancy rate', u'Housing units2 - Occupied',\n",
      "       u'Housing units - Owner-occupied', u'Housing units - Renter-occupied',\n",
      "       u'Population - Owner-occupied housing units',\n",
      "       u'Population - Renter-occupied housing units',\n",
      "       u'Average household size - Owner occupied',\n",
      "       u'Average household size - Renter occupied', u'Shape_Leng',\n",
      "       u'Shape_Area'],\n",
      "      dtype='object', length=195)\n",
      "        ALAND10  AWATER10  Population  Under 5 years  5 to 9 years  \\\n",
      "FID                                                                  \n",
      "14061   1673643      1477         108              6            11   \n",
      "14062  19232229   1249842       27610           1904          1841   \n",
      "14063  41143907   2263513       52003           3378          3285   \n",
      "14069  80466350   1568059       15203           1225          1213   \n",
      "14070  32021700   7405786       12839           1346          1120   \n",
      "\n",
      "       10 to 14 years  15 to 19 years  20 to 24 years  25 to 29 years  \\\n",
      "FID                                                                     \n",
      "14061              13               8              10               7   \n",
      "14062            1912            2089            1873            1959   \n",
      "14063            3493            3473            3971            4525   \n",
      "14069            1155            1116            1169            1113   \n",
      "14070             975             893             829            1069   \n",
      "\n",
      "       30 to 34 years     ...      Rental vacancy rate  \\\n",
      "FID                       ...                            \n",
      "14061               8     ...                      0.0   \n",
      "14062            1833     ...                      6.8   \n",
      "14063            3970     ...                      8.4   \n",
      "14069             946     ...                     14.6   \n",
      "14070            1175     ...                     14.7   \n",
      "\n",
      "       Housing units2 - Occupied  Housing units - Owner-occupied  \\\n",
      "FID                                                                \n",
      "14061                         32                              25   \n",
      "14062                      10425                            6676   \n",
      "14063                      20591                           11019   \n",
      "14069                       4557                            3148   \n",
      "14070                       4246                            2612   \n",
      "\n",
      "       Housing units - Renter-occupied  \\\n",
      "FID                                      \n",
      "14061                                7   \n",
      "14062                             3749   \n",
      "14063                             9572   \n",
      "14069                             1409   \n",
      "14070                             1634   \n",
      "\n",
      "       Population - Owner-occupied housing units  \\\n",
      "FID                                                \n",
      "14061                                         84   \n",
      "14062                                      17577   \n",
      "14063                                      29414   \n",
      "14069                                       9268   \n",
      "14070                                       7626   \n",
      "\n",
      "       Population - Renter-occupied housing units  \\\n",
      "FID                                                 \n",
      "14061                                          24   \n",
      "14062                                        9861   \n",
      "14063                                       22234   \n",
      "14069                                        5448   \n",
      "14070                                        5199   \n",
      "\n",
      "       Average household size - Owner occupied  \\\n",
      "FID                                              \n",
      "14061                                     3.36   \n",
      "14062                                     2.63   \n",
      "14063                                     2.67   \n",
      "14069                                     2.94   \n",
      "14070                                     2.92   \n",
      "\n",
      "       Average household size - Renter occupied  Shape_Leng  Shape_Area  \n",
      "FID                                                                      \n",
      "14061                                      3.43    0.068990    0.000153  \n",
      "14062                                      2.63    0.247573    0.001878  \n",
      "14063                                      2.32    0.441234    0.003979  \n",
      "14069                                      3.87    0.652827    0.007524  \n",
      "14070                                      3.18    0.516640    0.003611  \n",
      "\n",
      "[5 rows x 190 columns]\n"
     ]
    }
   ],
   "source": [
    "print(data.columns)\n",
    "x = data.drop(['FID', 'ZCTA5CE10', 'GEOID10', 'INTPTLAT10', 'INTPTLON10'], 1)\n",
    "print(x.head())"
   ]
  },
  {
   "cell_type": "code",
   "execution_count": null,
   "metadata": {
    "collapsed": true
   },
   "outputs": [],
   "source": [
    "sb.pairplot(x)"
   ]
  },
  {
   "cell_type": "code",
   "execution_count": null,
   "metadata": {
    "collapsed": true
   },
   "outputs": [],
   "source": []
  }
 ],
 "metadata": {
  "anaconda-cloud": {},
  "kernelspec": {
   "display_name": "Python [conda root]",
   "language": "python",
   "name": "conda-root-py"
  },
  "language_info": {
   "codemirror_mode": {
    "name": "ipython",
    "version": 2
   },
   "file_extension": ".py",
   "mimetype": "text/x-python",
   "name": "python",
   "nbconvert_exporter": "python",
   "pygments_lexer": "ipython2",
   "version": "2.7.12"
  }
 },
 "nbformat": 4,
 "nbformat_minor": 1
}
